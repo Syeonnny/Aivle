{
 "cells": [
  {
   "cell_type": "markdown",
   "id": "1f32dd86-1670-4327-bfe9-9d99b93a5d9c",
   "metadata": {},
   "source": [
    "**AIVLE School 미니프로젝트**\n",
    "### **네비게이션 주행데이터를 이용한 <span style=\"color:darkgreen\">도착시각</span> 예측 문제**\n",
    "---"
   ]
  },
  {
   "cell_type": "markdown",
   "id": "d2341ad0-ca25-4cd0-8a66-63ba196797cb",
   "metadata": {},
   "source": [
    "<br>"
   ]
  },
  {
   "cell_type": "code",
   "execution_count": 29,
   "id": "78bfda52-7125-4bf4-99cc-a49888f3557b",
   "metadata": {},
   "outputs": [],
   "source": [
    "import sklearn as sk\n",
    "import pandas as pd\n",
    "import json \n",
    "import seaborn as sns\n",
    "import matplotlib.pyplot as plt"
   ]
  },
  {
   "cell_type": "markdown",
   "id": "7d66e4d1-6a30-484d-920e-772b815f50c7",
   "metadata": {},
   "source": [
    "<br>"
   ]
  },
  {
   "cell_type": "markdown",
   "id": "38432cb3",
   "metadata": {},
   "source": [
    "## 데이터 불러오기 "
   ]
  },
  {
   "cell_type": "code",
   "execution_count": 5,
   "id": "dbc291ca-4629-4beb-be81-1633aa8e62b2",
   "metadata": {},
   "outputs": [],
   "source": [
    "with open ('A0007IT.json', 'r') as file:\n",
    "    data = json.load(file)"
   ]
  },
  {
   "cell_type": "code",
   "execution_count": 6,
   "id": "b136a1f3",
   "metadata": {},
   "outputs": [
    {
     "data": {
      "text/html": [
       "<div>\n",
       "<style scoped>\n",
       "    .dataframe tbody tr th:only-of-type {\n",
       "        vertical-align: middle;\n",
       "    }\n",
       "\n",
       "    .dataframe tbody tr th {\n",
       "        vertical-align: top;\n",
       "    }\n",
       "\n",
       "    .dataframe thead th {\n",
       "        text-align: right;\n",
       "    }\n",
       "</style>\n",
       "<table border=\"1\" class=\"dataframe\">\n",
       "  <thead>\n",
       "    <tr style=\"text-align: right;\">\n",
       "      <th></th>\n",
       "      <th>Time_Departure</th>\n",
       "      <th>Time_Arrival</th>\n",
       "      <th>Distance</th>\n",
       "      <th>Time_Driving</th>\n",
       "      <th>Speed_Per_Hour</th>\n",
       "      <th>Address1</th>\n",
       "      <th>Address2</th>\n",
       "      <th>Signaltype</th>\n",
       "      <th>Weekday</th>\n",
       "      <th>Hour</th>\n",
       "      <th>Day</th>\n",
       "    </tr>\n",
       "  </thead>\n",
       "  <tbody>\n",
       "    <tr>\n",
       "      <th>0</th>\n",
       "      <td>35:21.0</td>\n",
       "      <td>55:22.6</td>\n",
       "      <td>12914.0</td>\n",
       "      <td>1201.534058</td>\n",
       "      <td>38.692536</td>\n",
       "      <td>경기도</td>\n",
       "      <td>광명시</td>\n",
       "      <td>7</td>\n",
       "      <td>0</td>\n",
       "      <td>5</td>\n",
       "      <td>20</td>\n",
       "    </tr>\n",
       "    <tr>\n",
       "      <th>1</th>\n",
       "      <td>55:22.0</td>\n",
       "      <td>09:06.9</td>\n",
       "      <td>7483.0</td>\n",
       "      <td>823.817017</td>\n",
       "      <td>32.699980</td>\n",
       "      <td>서울특별시</td>\n",
       "      <td>영등포구</td>\n",
       "      <td>31</td>\n",
       "      <td>0</td>\n",
       "      <td>5</td>\n",
       "      <td>20</td>\n",
       "    </tr>\n",
       "    <tr>\n",
       "      <th>2</th>\n",
       "      <td>13:46.0</td>\n",
       "      <td>22:32.9</td>\n",
       "      <td>8087.0</td>\n",
       "      <td>526.710998</td>\n",
       "      <td>55.273575</td>\n",
       "      <td>경기도</td>\n",
       "      <td>김포시</td>\n",
       "      <td>6</td>\n",
       "      <td>0</td>\n",
       "      <td>0</td>\n",
       "      <td>20</td>\n",
       "    </tr>\n",
       "    <tr>\n",
       "      <th>3</th>\n",
       "      <td>13:43.0</td>\n",
       "      <td>28:42.7</td>\n",
       "      <td>10528.0</td>\n",
       "      <td>898.581970</td>\n",
       "      <td>42.178456</td>\n",
       "      <td>경기도</td>\n",
       "      <td>광주시</td>\n",
       "      <td>2</td>\n",
       "      <td>0</td>\n",
       "      <td>0</td>\n",
       "      <td>20</td>\n",
       "    </tr>\n",
       "    <tr>\n",
       "      <th>4</th>\n",
       "      <td>01:57.0</td>\n",
       "      <td>17:58.2</td>\n",
       "      <td>10636.0</td>\n",
       "      <td>957.758972</td>\n",
       "      <td>39.978326</td>\n",
       "      <td>경기도</td>\n",
       "      <td>안산시 상록구</td>\n",
       "      <td>28</td>\n",
       "      <td>0</td>\n",
       "      <td>0</td>\n",
       "      <td>20</td>\n",
       "    </tr>\n",
       "    <tr>\n",
       "      <th>...</th>\n",
       "      <td>...</td>\n",
       "      <td>...</td>\n",
       "      <td>...</td>\n",
       "      <td>...</td>\n",
       "      <td>...</td>\n",
       "      <td>...</td>\n",
       "      <td>...</td>\n",
       "      <td>...</td>\n",
       "      <td>...</td>\n",
       "      <td>...</td>\n",
       "      <td>...</td>\n",
       "    </tr>\n",
       "    <tr>\n",
       "      <th>55526</th>\n",
       "      <td>57:07.0</td>\n",
       "      <td>06:15.7</td>\n",
       "      <td>4448.0</td>\n",
       "      <td>544.301025</td>\n",
       "      <td>29.419015</td>\n",
       "      <td>경기도</td>\n",
       "      <td>파주시</td>\n",
       "      <td>22</td>\n",
       "      <td>4</td>\n",
       "      <td>23</td>\n",
       "      <td>24</td>\n",
       "    </tr>\n",
       "    <tr>\n",
       "      <th>55527</th>\n",
       "      <td>57:26.0</td>\n",
       "      <td>07:15.3</td>\n",
       "      <td>3106.0</td>\n",
       "      <td>535.666992</td>\n",
       "      <td>20.874163</td>\n",
       "      <td>서울특별시</td>\n",
       "      <td>구로구</td>\n",
       "      <td>16</td>\n",
       "      <td>4</td>\n",
       "      <td>23</td>\n",
       "      <td>24</td>\n",
       "    </tr>\n",
       "    <tr>\n",
       "      <th>55528</th>\n",
       "      <td>57:46.0</td>\n",
       "      <td>07:56.8</td>\n",
       "      <td>10325.0</td>\n",
       "      <td>610.799988</td>\n",
       "      <td>60.854618</td>\n",
       "      <td>서울특별시</td>\n",
       "      <td>광진구</td>\n",
       "      <td>5</td>\n",
       "      <td>4</td>\n",
       "      <td>23</td>\n",
       "      <td>24</td>\n",
       "    </tr>\n",
       "    <tr>\n",
       "      <th>55529</th>\n",
       "      <td>58:03.0</td>\n",
       "      <td>12:42.4</td>\n",
       "      <td>4458.0</td>\n",
       "      <td>878.479004</td>\n",
       "      <td>18.268849</td>\n",
       "      <td>서울특별시</td>\n",
       "      <td>구로구</td>\n",
       "      <td>32</td>\n",
       "      <td>4</td>\n",
       "      <td>23</td>\n",
       "      <td>24</td>\n",
       "    </tr>\n",
       "    <tr>\n",
       "      <th>55530</th>\n",
       "      <td>58:56.0</td>\n",
       "      <td>08:10.4</td>\n",
       "      <td>3780.0</td>\n",
       "      <td>553.580994</td>\n",
       "      <td>24.581769</td>\n",
       "      <td>서울특별시</td>\n",
       "      <td>강남구</td>\n",
       "      <td>18</td>\n",
       "      <td>4</td>\n",
       "      <td>23</td>\n",
       "      <td>24</td>\n",
       "    </tr>\n",
       "  </tbody>\n",
       "</table>\n",
       "<p>55531 rows × 11 columns</p>\n",
       "</div>"
      ],
      "text/plain": [
       "      Time_Departure Time_Arrival  Distance  Time_Driving  Speed_Per_Hour  \\\n",
       "0            35:21.0      55:22.6   12914.0   1201.534058       38.692536   \n",
       "1            55:22.0      09:06.9    7483.0    823.817017       32.699980   \n",
       "2            13:46.0      22:32.9    8087.0    526.710998       55.273575   \n",
       "3            13:43.0      28:42.7   10528.0    898.581970       42.178456   \n",
       "4            01:57.0      17:58.2   10636.0    957.758972       39.978326   \n",
       "...              ...          ...       ...           ...             ...   \n",
       "55526        57:07.0      06:15.7    4448.0    544.301025       29.419015   \n",
       "55527        57:26.0      07:15.3    3106.0    535.666992       20.874163   \n",
       "55528        57:46.0      07:56.8   10325.0    610.799988       60.854618   \n",
       "55529        58:03.0      12:42.4    4458.0    878.479004       18.268849   \n",
       "55530        58:56.0      08:10.4    3780.0    553.580994       24.581769   \n",
       "\n",
       "      Address1 Address2  Signaltype  Weekday  Hour  Day  \n",
       "0          경기도      광명시           7        0     5   20  \n",
       "1        서울특별시     영등포구          31        0     5   20  \n",
       "2          경기도      김포시           6        0     0   20  \n",
       "3          경기도      광주시           2        0     0   20  \n",
       "4          경기도  안산시 상록구          28        0     0   20  \n",
       "...        ...      ...         ...      ...   ...  ...  \n",
       "55526      경기도      파주시          22        4    23   24  \n",
       "55527    서울특별시      구로구          16        4    23   24  \n",
       "55528    서울특별시      광진구           5        4    23   24  \n",
       "55529    서울특별시      구로구          32        4    23   24  \n",
       "55530    서울특별시      강남구          18        4    23   24  \n",
       "\n",
       "[55531 rows x 11 columns]"
      ]
     },
     "execution_count": 6,
     "metadata": {},
     "output_type": "execute_result"
    }
   ],
   "source": [
    "df = pd.DataFrame(data)\n",
    "df"
   ]
  },
  {
   "cell_type": "markdown",
   "id": "6a34284c-1724-4326-8079-b823f1e9b08b",
   "metadata": {},
   "source": [
    "<br>"
   ]
  },
  {
   "cell_type": "code",
   "execution_count": 7,
   "id": "0bf858f3",
   "metadata": {},
   "outputs": [
    {
     "name": "stdout",
     "output_type": "stream",
     "text": [
      "Requirement already satisfied: koreanize-matplotlib in c:\\users\\sy\\anaconda3\\lib\\site-packages (0.1.1)\n",
      "Requirement already satisfied: matplotlib in c:\\users\\sy\\anaconda3\\lib\\site-packages (from koreanize-matplotlib) (3.5.2)\n",
      "Requirement already satisfied: cycler>=0.10 in c:\\users\\sy\\anaconda3\\lib\\site-packages (from matplotlib->koreanize-matplotlib) (0.11.0)\n",
      "Requirement already satisfied: fonttools>=4.22.0 in c:\\users\\sy\\anaconda3\\lib\\site-packages (from matplotlib->koreanize-matplotlib) (4.25.0)\n",
      "Requirement already satisfied: kiwisolver>=1.0.1 in c:\\users\\sy\\anaconda3\\lib\\site-packages (from matplotlib->koreanize-matplotlib) (1.4.2)\n",
      "Requirement already satisfied: numpy>=1.17 in c:\\users\\sy\\anaconda3\\lib\\site-packages (from matplotlib->koreanize-matplotlib) (1.26.4)\n",
      "Requirement already satisfied: packaging>=20.0 in c:\\users\\sy\\anaconda3\\lib\\site-packages (from matplotlib->koreanize-matplotlib) (23.2)\n",
      "Requirement already satisfied: pillow>=6.2.0 in c:\\users\\sy\\anaconda3\\lib\\site-packages (from matplotlib->koreanize-matplotlib) (9.2.0)\n",
      "Requirement already satisfied: pyparsing>=2.2.1 in c:\\users\\sy\\anaconda3\\lib\\site-packages (from matplotlib->koreanize-matplotlib) (3.0.9)\n",
      "Requirement already satisfied: python-dateutil>=2.7 in c:\\users\\sy\\anaconda3\\lib\\site-packages (from matplotlib->koreanize-matplotlib) (2.8.2)\n",
      "Requirement already satisfied: six>=1.5 in c:\\users\\sy\\anaconda3\\lib\\site-packages (from python-dateutil>=2.7->matplotlib->koreanize-matplotlib) (1.16.0)\n"
     ]
    }
   ],
   "source": [
    "!pip install koreanize-matplotlib\n",
    "# 맑은 고딕으로 한글 사용\n",
    "from matplotlib import font_manager, rc\n",
    "font_name = font_manager.FontProperties(fname=\"c:/Windows/Fonts/malgun.ttf\").get_name()\n",
    "rc('font', family=font_name)\n",
    "\n",
    "import matplotlib as mpl\n",
    "mpl.rcParams['axes.unicode_minus'] = False"
   ]
  },
  {
   "cell_type": "code",
   "execution_count": 8,
   "id": "865d5d47-ce7e-4536-828f-b9d5ab804780",
   "metadata": {
    "scrolled": false,
    "tags": []
   },
   "outputs": [
    {
     "data": {
      "text/plain": [
       "<AxesSubplot:xlabel='Address1', ylabel='count'>"
      ]
     },
     "execution_count": 8,
     "metadata": {},
     "output_type": "execute_result"
    },
    {
     "data": {
      "image/png": "[encoded data removed]",
      "text/plain": [
       "<Figure size 640x480 with 1 Axes>"
      ]
     },
     "metadata": {},
     "output_type": "display_data"
    }
   ],
   "source": [
    "sns.countplot(x=df['Address1'])"
   ]
  },
  {
   "cell_type": "code",
   "execution_count": 9,
   "id": "16368292",
   "metadata": {},
   "outputs": [
    {
     "data": {
      "text/plain": [
       "경기도      33217\n",
       "서울특별시    22045\n",
       "인천광역시      175\n",
       "-           90\n",
       "강원도          2\n",
       "충청북도         1\n",
       "충청남도         1\n",
       "Name: Address1, dtype: int64"
      ]
     },
     "execution_count": 9,
     "metadata": {},
     "output_type": "execute_result"
    }
   ],
   "source": [
    "df['Address1'].value_counts()"
   ]
  },
  {
   "cell_type": "code",
   "execution_count": 10,
   "id": "b33e50ee",
   "metadata": {},
   "outputs": [],
   "source": [
    "df= df[df['Address1'] != '-']"
   ]
  },
  {
   "cell_type": "code",
   "execution_count": 11,
   "id": "9d3fb460",
   "metadata": {},
   "outputs": [
    {
     "data": {
      "text/plain": [
       "경기도      33217\n",
       "서울특별시    22045\n",
       "인천광역시      175\n",
       "강원도          2\n",
       "충청북도         1\n",
       "충청남도         1\n",
       "Name: Address1, dtype: int64"
      ]
     },
     "execution_count": 11,
     "metadata": {},
     "output_type": "execute_result"
    }
   ],
   "source": [
    "df['Address1'].value_counts()"
   ]
  },
  {
   "cell_type": "markdown",
   "id": "594967e8-9231-4671-a88e-7b54898ffa4e",
   "metadata": {},
   "source": [
    "<br>"
   ]
  },
  {
   "cell_type": "code",
   "execution_count": 12,
   "id": "23c0e7e5-c4e7-42e8-9258-2bd3fb7a1551",
   "metadata": {},
   "outputs": [
    {
     "data": {
      "text/plain": [
       "<seaborn.axisgrid.JointGrid at 0x25760ed1e08>"
      ]
     },
     "execution_count": 12,
     "metadata": {},
     "output_type": "execute_result"
    },
    {
     "data": {
      "image/png": "[encoded data removed]",
      "text/plain": [
       "<Figure size 600x600 with 3 Axes>"
      ]
     },
     "metadata": {},
     "output_type": "display_data"
    }
   ],
   "source": [
    "sns.jointplot(x='Time_Driving', y='Speed_Per_Hour', data=df)"
   ]
  },
  {
   "cell_type": "markdown",
   "id": "7c3d46d9-2a4a-49ce-ace2-b007933c2a53",
   "metadata": {},
   "source": [
    "<br>"
   ]
  },
  {
   "cell_type": "code",
   "execution_count": 13,
   "id": "414a676e-0392-4e52-a8fa-bc4dd71482b8",
   "metadata": {},
   "outputs": [],
   "source": [
    "df_temp = df.drop(df[df['Speed_Per_Hour'] > 300].index)"
   ]
  },
  {
   "cell_type": "markdown",
   "id": "43d2735b-8ba6-44c9-9e08-6c53002f1b46",
   "metadata": {},
   "source": [
    "<br>"
   ]
  },
  {
   "cell_type": "code",
   "execution_count": 14,
   "id": "ccc8da5a-221a-4c13-ab4e-792264ea48a8",
   "metadata": {},
   "outputs": [
    {
     "data": {
      "text/plain": [
       "Time_Departure    0\n",
       "Time_Arrival      0\n",
       "Distance          2\n",
       "Time_Driving      3\n",
       "Speed_Per_Hour    5\n",
       "Address1          0\n",
       "Address2          0\n",
       "Signaltype        0\n",
       "Weekday           0\n",
       "Hour              0\n",
       "Day               0\n",
       "dtype: int64"
      ]
     },
     "execution_count": 14,
     "metadata": {},
     "output_type": "execute_result"
    }
   ],
   "source": [
    "df_temp.isnull().sum()"
   ]
  },
  {
   "cell_type": "code",
   "execution_count": 15,
   "id": "8b6b3dc6",
   "metadata": {},
   "outputs": [],
   "source": [
    "df_na = df_temp.dropna()"
   ]
  },
  {
   "cell_type": "code",
   "execution_count": 16,
   "id": "96ce0010",
   "metadata": {},
   "outputs": [
    {
     "data": {
      "text/plain": [
       "Time_Departure    0\n",
       "Time_Arrival      0\n",
       "Distance          0\n",
       "Time_Driving      0\n",
       "Speed_Per_Hour    0\n",
       "Address1          0\n",
       "Address2          0\n",
       "Signaltype        0\n",
       "Weekday           0\n",
       "Hour              0\n",
       "Day               0\n",
       "dtype: int64"
      ]
     },
     "execution_count": 16,
     "metadata": {},
     "output_type": "execute_result"
    }
   ],
   "source": [
    "df_na.isnull().sum()"
   ]
  },
  {
   "cell_type": "code",
   "execution_count": 17,
   "id": "7573f7e1-eeb9-436b-8fb4-af7ba4872782",
   "metadata": {},
   "outputs": [],
   "source": [
    "df_del = df_na.drop(['Time_Departure', 'Time_Arrival'], axis=1)"
   ]
  },
  {
   "cell_type": "code",
   "execution_count": 18,
   "id": "3c570518",
   "metadata": {},
   "outputs": [
    {
     "data": {
      "text/plain": [
       "Distance          0\n",
       "Time_Driving      0\n",
       "Speed_Per_Hour    0\n",
       "Address1          0\n",
       "Address2          0\n",
       "Signaltype        0\n",
       "Weekday           0\n",
       "Hour              0\n",
       "Day               0\n",
       "dtype: int64"
      ]
     },
     "execution_count": 18,
     "metadata": {},
     "output_type": "execute_result"
    }
   ],
   "source": [
    "df_del.isnull().sum()"
   ]
  },
  {
   "cell_type": "markdown",
   "id": "9db815d3-4725-42e4-a34d-a693ef160dc4",
   "metadata": {},
   "source": [
    "<br>"
   ]
  },
  {
   "cell_type": "code",
   "execution_count": 19,
   "id": "dd86647f",
   "metadata": {},
   "outputs": [
    {
     "name": "stdout",
     "output_type": "stream",
     "text": [
      "<class 'pandas.core.frame.DataFrame'>\n",
      "Index: 55431 entries, 0 to 55530\n",
      "Data columns (total 9 columns):\n",
      " #   Column          Non-Null Count  Dtype  \n",
      "---  ------          --------------  -----  \n",
      " 0   Distance        55431 non-null  float64\n",
      " 1   Time_Driving    55431 non-null  float64\n",
      " 2   Speed_Per_Hour  55431 non-null  float64\n",
      " 3   Address1        55431 non-null  object \n",
      " 4   Address2        55431 non-null  object \n",
      " 5   Signaltype      55431 non-null  int64  \n",
      " 6   Weekday         55431 non-null  int64  \n",
      " 7   Hour            55431 non-null  int64  \n",
      " 8   Day             55431 non-null  int64  \n",
      "dtypes: float64(3), int64(4), object(2)\n",
      "memory usage: 4.2+ MB\n"
     ]
    }
   ],
   "source": [
    "df_del.info()"
   ]
  },
  {
   "cell_type": "code",
   "execution_count": 20,
   "id": "abbad879-2bf9-4177-837a-0dcca9adcd43",
   "metadata": {},
   "outputs": [],
   "source": [
    "oh_cols = ['Address1', 'Address2']\n",
    "df_preset = pd.get_dummies(df_del, columns = oh_cols, drop_first = True)"
   ]
  },
  {
   "cell_type": "markdown",
   "id": "4266bd53-b060-4355-b473-c051cbbc908e",
   "metadata": {},
   "source": [
    "<br>"
   ]
  },
  {
   "cell_type": "markdown",
   "id": "081fed38",
   "metadata": {},
   "source": [
    "## x y 분리"
   ]
  },
  {
   "cell_type": "code",
   "execution_count": 21,
   "id": "125c4733",
   "metadata": {},
   "outputs": [],
   "source": [
    "X = df_preset.drop('Time_Driving', axis=1)\n",
    "y = df_preset['Time_Driving']"
   ]
  },
  {
   "cell_type": "code",
   "execution_count": 22,
   "id": "da848455-7b93-47fd-8ac4-d844b2a4e7be",
   "metadata": {
    "tags": []
   },
   "outputs": [],
   "source": [
    "from sklearn.model_selection import train_test_split\n",
    "\n",
    "X_train, X_valid, y_train, y_valid = train_test_split(X, y, test_size=0.2, random_state=42)"
   ]
  },
  {
   "cell_type": "markdown",
   "id": "a0f356a6-f40f-45e2-a559-d5d04e75ea3f",
   "metadata": {},
   "source": [
    "<br>"
   ]
  },
  {
   "cell_type": "markdown",
   "id": "1a28f84e",
   "metadata": {},
   "source": [
    "## 모델링"
   ]
  },
  {
   "cell_type": "code",
   "execution_count": 24,
   "id": "8901a3f2-3839-4831-afeb-fd2877eef954",
   "metadata": {},
   "outputs": [
    {
     "data": {
      "text/plain": [
       "DecisionTreeRegressor(max_depth=5, min_samples_split=3, random_state=120)"
      ]
     },
     "execution_count": 24,
     "metadata": {},
     "output_type": "execute_result"
    }
   ],
   "source": [
    "from sklearn.tree import DecisionTreeRegressor\n",
    "\n",
    "dt_model = DecisionTreeRegressor(max_depth = 5, min_samples_split = 3, random_state=120)\n",
    "dt_model.fit(X_train, y_train)"
   ]
  },
  {
   "cell_type": "markdown",
   "id": "c42fb023-9864-4471-8a45-44fdbfd35e93",
   "metadata": {},
   "source": [
    "<br>"
   ]
  },
  {
   "cell_type": "code",
   "execution_count": 25,
   "id": "8a8b9d20-a680-4000-9b3a-aadfe5d6cb02",
   "metadata": {},
   "outputs": [
    {
     "name": "stdout",
     "output_type": "stream",
     "text": [
      "113.87838566407876\n"
     ]
    }
   ],
   "source": [
    "from sklearn.metrics import mean_absolute_error\n",
    "y_pred = dt_model.predict(X_valid)\n",
    "dt_mae = mean_absolute_error(y_valid, y_pred)\n",
    "print(dt_mae)"
   ]
  },
  {
   "cell_type": "markdown",
   "id": "ca8e3bcd-70a1-41fe-b050-2a7b3d97280b",
   "metadata": {
    "tags": []
   },
   "source": [
    "<br>"
   ]
  },
  {
   "cell_type": "code",
   "execution_count": 26,
   "id": "5f6e8b6d-f740-4d98-9189-78cdb98991d0",
   "metadata": {},
   "outputs": [],
   "source": [
    "import tensorflow as tf\n",
    "from tensorflow.keras.models import Sequential, load_model\n",
    "from tensorflow.keras.layers import Dense, Activation, Dropout, BatchNormalization\n",
    "from tensorflow.keras.callbacks import EarlyStopping, ModelCheckpoint\n",
    "from tensorflow.keras.utils import to_categorical\n",
    "\n",
    "tf.random.set_seed(1)"
   ]
  },
  {
   "cell_type": "markdown",
   "id": "0d15cb7c-f9fd-45ce-85e0-7ea72a4091a5",
   "metadata": {
    "tags": []
   },
   "source": [
    "<br>"
   ]
  },
  {
   "cell_type": "markdown",
   "id": "7e8b9f1a",
   "metadata": {},
   "source": [
    "## 딥러닝 모델링"
   ]
  },
  {
   "cell_type": "code",
   "execution_count": 27,
   "id": "df129f00-16d9-427b-adef-af90f3ab177c",
   "metadata": {},
   "outputs": [
    {
     "name": "stdout",
     "output_type": "stream",
     "text": [
      "Epoch 1/30\n",
      "2758/2772 [============================>.] - ETA: 0s - loss: 160938.3125 - mae: 272.5314 - mse: 160938.3125\n",
      "Epoch 1: val_loss improved from inf to 112541.57031, saving model to best_model.keras\n",
      "2772/2772 [==============================] - 11s 3ms/step - loss: 160502.8906 - mae: 272.0985 - mse: 160502.8906 - val_loss: 112541.5703 - val_mae: 214.9263 - val_mse: 112541.5703\n",
      "Epoch 2/30\n",
      "2770/2772 [============================>.] - ETA: 0s - loss: 61487.6367 - mae: 161.2454 - mse: 61487.6367\n",
      "Epoch 2: val_loss improved from 112541.57031 to 31895.84375, saving model to best_model.keras\n",
      "2772/2772 [==============================] - 7s 3ms/step - loss: 61467.6602 - mae: 161.2131 - mse: 61467.6602 - val_loss: 31895.8438 - val_mae: 118.8505 - val_mse: 31895.8438\n",
      "Epoch 3/30\n",
      "2765/2772 [============================>.] - ETA: 0s - loss: 33737.9922 - mae: 118.4220 - mse: 33737.9922\n",
      "Epoch 3: val_loss did not improve from 31895.84375\n",
      "2772/2772 [==============================] - 8s 3ms/step - loss: 33752.4453 - mae: 118.4642 - mse: 33752.4453 - val_loss: 32281.3926 - val_mae: 140.8904 - val_mse: 32281.3926\n",
      "Epoch 4/30\n",
      "2753/2772 [============================>.] - ETA: 0s - loss: 25413.6953 - mae: 102.2621 - mse: 25413.6953\n",
      "Epoch 4: val_loss did not improve from 31895.84375\n",
      "2772/2772 [==============================] - 8s 3ms/step - loss: 25362.8223 - mae: 102.1690 - mse: 25362.8223 - val_loss: 44170.9258 - val_mae: 161.8492 - val_mse: 44170.9258\n",
      "Epoch 5/30\n",
      "2756/2772 [============================>.] - ETA: 0s - loss: 22473.0723 - mae: 93.4892 - mse: 22473.0723\n",
      "Epoch 5: val_loss did not improve from 31895.84375\n",
      "2772/2772 [==============================] - 8s 3ms/step - loss: 22443.8164 - mae: 93.4086 - mse: 22443.8164 - val_loss: 77752.2734 - val_mae: 234.2404 - val_mse: 77752.2734\n",
      "Epoch 6/30\n",
      "2752/2772 [============================>.] - ETA: 0s - loss: 20602.8887 - mae: 89.4736 - mse: 20602.8887\n",
      "Epoch 6: val_loss did not improve from 31895.84375\n",
      "2772/2772 [==============================] - 8s 3ms/step - loss: 20597.9824 - mae: 89.4376 - mse: 20597.9824 - val_loss: 34557.9844 - val_mae: 147.7452 - val_mse: 34557.9844\n",
      "Epoch 7/30\n",
      "2754/2772 [============================>.] - ETA: 0s - loss: 19216.7227 - mae: 84.4738 - mse: 19216.7227\n",
      "Epoch 7: val_loss did not improve from 31895.84375\n",
      "2772/2772 [==============================] - 8s 3ms/step - loss: 19296.2949 - mae: 84.6873 - mse: 19296.2949 - val_loss: 107122.8828 - val_mae: 247.3908 - val_mse: 107122.8828\n"
     ]
    }
   ],
   "source": [
    "model = Sequential()\n",
    "model.add(Dense(64, activation='relu', input_shape=(87,)))\n",
    "model.add(Dropout(0.2))\n",
    "model.add(Dense(32, activation='relu'))\n",
    "model.add(Dense(16, activation='relu'))\n",
    "model.add(Dense(1))\n",
    "\n",
    "model.compile(loss='mse', optimizer='adam', metrics=['mae', 'mse'])\n",
    "\n",
    "es = EarlyStopping(monitor='val_loss', patience=5) \n",
    "\n",
    "checkpoint_path = 'best_model.keras' \n",
    "mc = ModelCheckpoint(checkpoint_path, monitor='val_loss', verbose=1, save_best_only=True)\n",
    "\n",
    "history = model.fit(X_train, y_train, epochs=30, batch_size=16,\n",
    "                   validation_data=(X_valid, y_valid),\n",
    "                   callbacks=[es, mc]\n",
    "                   )"
   ]
  },
  {
   "cell_type": "markdown",
   "id": "12f33874-3f1e-4b63-ba3e-91d90ee5e512",
   "metadata": {},
   "source": [
    "<br>"
   ]
  },
  {
   "cell_type": "code",
   "execution_count": 30,
   "id": "e5094d66-0b51-45bf-89f0-07af04d7909e",
   "metadata": {},
   "outputs": [
    {
     "data": {
      "image/png": "[encoded data removed]",
      "text/plain": [
       "<Figure size 640x480 with 1 Axes>"
      ]
     },
     "metadata": {},
     "output_type": "display_data"
    }
   ],
   "source": [
    "plt.plot(history.history[\"mae\"], label=\"mae\")\n",
    "plt.plot(history.history[\"mse\"], label=\"mse\")\n",
    "plt.title(\"Model MSE\")\n",
    "plt.xlabel(\"Epochs\")\n",
    "plt.ylabel(\"MSE\")\n",
    "plt.legend()\n",
    "plt.show()"
   ]
  },
  {
   "cell_type": "code",
   "execution_count": null,
   "id": "eadbcc96",
   "metadata": {},
   "outputs": [],
   "source": []
  }
 ],
 "metadata": {
  "kernelspec": {
   "display_name": "Python 3 (ipykernel)",
   "language": "python",
   "name": "python3"
  },
  "language_info": {
   "codemirror_mode": {
    "name": "ipython",
    "version": 3
   },
   "file_extension": ".py",
   "mimetype": "text/x-python",
   "name": "python",
   "nbconvert_exporter": "python",
   "pygments_lexer": "ipython3",
   "version": "3.7.16"
  }
 },
 "nbformat": 4,
 "nbformat_minor": 5
}
